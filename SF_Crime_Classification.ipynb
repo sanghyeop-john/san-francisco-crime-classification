{
  "nbformat": 4,
  "nbformat_minor": 0,
  "metadata": {
    "kernelspec": {
      "display_name": "Python 3",
      "language": "python",
      "name": "python3"
    },
    "language_info": {
      "codemirror_mode": {
        "name": "ipython",
        "version": 3
      },
      "file_extension": ".py",
      "mimetype": "text/x-python",
      "name": "python",
      "nbconvert_exporter": "python",
      "pygments_lexer": "ipython3",
      "version": "3.7.1"
    },
    "colab": {
      "name": "SF_Crime_Classification.ipynb",
      "provenance": []
    },
    "accelerator": "GPU"
  },
  "cells": [
    {
      "cell_type": "markdown",
      "metadata": {
        "id": "pO6N17-gxd6o",
        "colab_type": "text"
      },
      "source": [
        "### Tips\n",
        "\n",
        "Convert a code cell to a text cell: Control + m + m \n",
        "\n",
        "Revert to a code cell:\n",
        "Control + m + y\n"
      ]
    },
    {
      "cell_type": "markdown",
      "metadata": {
        "id": "Kxu4XVL0xexL",
        "colab_type": "text"
      },
      "source": [
        "# San Francisco Crime Classification\n",
        "\n",
        "----\n"
      ]
    },
    {
      "cell_type": "markdown",
      "metadata": {
        "id": "eTfg-wWUxhUC",
        "colab_type": "text"
      },
      "source": [
        "## Objectives:\n",
        "\n",
        "1. Analyze \"X,Y\" & \"Address\" data to predict.\n",
        "\n",
        "2. Impose different penalties & advantages to each categories when evaluating the model performance.\n",
        "\n",
        "3. Evaluate data validity / reliability through data visualization and exploratory data analysis.\n",
        "\n",
        "4. Manage big data efficiently"
      ]
    }
  ]
}